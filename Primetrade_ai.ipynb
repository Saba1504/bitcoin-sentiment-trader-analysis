{
  "nbformat": 4,
  "nbformat_minor": 0,
  "metadata": {
    "colab": {
      "provenance": []
    },
    "kernelspec": {
      "name": "python3",
      "display_name": "Python 3"
    },
    "language_info": {
      "name": "python"
    }
  },
  "cells": [
    {
      "cell_type": "code",
      "execution_count": 24,
      "metadata": {
        "colab": {
          "base_uri": "https://localhost:8080/"
        },
        "id": "CUuA_0JJGnMl",
        "outputId": "51270548-9f08-42e5-d19f-d523e3541453"
      },
      "outputs": [
        {
          "output_type": "stream",
          "name": "stdout",
          "text": [
            "Requirement already satisfied: pandas in /usr/local/lib/python3.11/dist-packages (2.2.2)\n",
            "Requirement already satisfied: numpy in /usr/local/lib/python3.11/dist-packages (2.0.2)\n",
            "Requirement already satisfied: matplotlib in /usr/local/lib/python3.11/dist-packages (3.10.0)\n",
            "Requirement already satisfied: scipy in /usr/local/lib/python3.11/dist-packages (1.16.1)\n",
            "Requirement already satisfied: python-dateutil>=2.8.2 in /usr/local/lib/python3.11/dist-packages (from pandas) (2.9.0.post0)\n",
            "Requirement already satisfied: pytz>=2020.1 in /usr/local/lib/python3.11/dist-packages (from pandas) (2025.2)\n",
            "Requirement already satisfied: tzdata>=2022.7 in /usr/local/lib/python3.11/dist-packages (from pandas) (2025.2)\n",
            "Requirement already satisfied: contourpy>=1.0.1 in /usr/local/lib/python3.11/dist-packages (from matplotlib) (1.3.3)\n",
            "Requirement already satisfied: cycler>=0.10 in /usr/local/lib/python3.11/dist-packages (from matplotlib) (0.12.1)\n",
            "Requirement already satisfied: fonttools>=4.22.0 in /usr/local/lib/python3.11/dist-packages (from matplotlib) (4.59.0)\n",
            "Requirement already satisfied: kiwisolver>=1.3.1 in /usr/local/lib/python3.11/dist-packages (from matplotlib) (1.4.8)\n",
            "Requirement already satisfied: packaging>=20.0 in /usr/local/lib/python3.11/dist-packages (from matplotlib) (25.0)\n",
            "Requirement already satisfied: pillow>=8 in /usr/local/lib/python3.11/dist-packages (from matplotlib) (11.3.0)\n",
            "Requirement already satisfied: pyparsing>=2.3.1 in /usr/local/lib/python3.11/dist-packages (from matplotlib) (3.2.3)\n",
            "Requirement already satisfied: six>=1.5 in /usr/local/lib/python3.11/dist-packages (from python-dateutil>=2.8.2->pandas) (1.17.0)\n"
          ]
        }
      ],
      "source": [
        "pip install pandas numpy matplotlib scipy"
      ]
    },
    {
      "cell_type": "code",
      "source": [
        "\n",
        "import os\n",
        "import warnings\n",
        "from datetime import timedelta\n",
        "\n",
        "import numpy as np\n",
        "import pandas as pd\n",
        "import matplotlib.pyplot as plt\n",
        "from scipy import stats\n",
        "\n",
        "warnings.filterwarnings(\"ignore\")\n",
        "plt.rcParams[\"figure.figsize\"] = (8, 5)"
      ],
      "metadata": {
        "id": "5Os-ZQppGxrw"
      },
      "execution_count": 25,
      "outputs": []
    },
    {
      "cell_type": "code",
      "source": [
        "trader_data_path = \"historical_data.csv\"   # <- set to your downloaded file\n",
        "sentiment_data_path = \"fear_greed_index.csv\"      # <- set to your downloaded file\n",
        "OUTPUT_DIR = \"analysis_outputs\"\n",
        "PLOTS_DIR = os.path.join(OUTPUT_DIR, \"plots\")\n",
        "\n",
        "os.makedirs(OUTPUT_DIR, exist_ok=True)\n",
        "os.makedirs(PLOTS_DIR, exist_ok=True)"
      ],
      "metadata": {
        "id": "cTTi4tlYHChx"
      },
      "execution_count": 26,
      "outputs": []
    },
    {
      "cell_type": "code",
      "source": [
        "def safe_read_csv(path):\n",
        "    if not os.path.exists(path):\n",
        "        raise FileNotFoundError(f\"File not found: {path}. Download it and update path.\")\n",
        "    return pd.read_csv(path)\n",
        "\n",
        "\n",
        "# ---------------------------\n",
        "# 1. Load datasets\n",
        "# ---------------------------\n",
        "print(\"Loading datasets...\")"
      ],
      "metadata": {
        "colab": {
          "base_uri": "https://localhost:8080/"
        },
        "id": "YMt1KV_JHLtH",
        "outputId": "c49d4478-201f-47ff-b099-8bdf988866de"
      },
      "execution_count": 27,
      "outputs": [
        {
          "output_type": "stream",
          "name": "stdout",
          "text": [
            "Loading datasets...\n"
          ]
        }
      ]
    },
    {
      "cell_type": "code",
      "source": [
        "trader_df = safe_read_csv(trader_data_path)\n",
        "sent_df = safe_read_csv(sentiment_data_path)\n",
        "\n",
        "print(f\"Trader data shape: {trader_df.shape}\")\n",
        "print(f\"Sentiment data shape: {sent_df.shape}\")"
      ],
      "metadata": {
        "colab": {
          "base_uri": "https://localhost:8080/"
        },
        "id": "SKzyHhxGHMXT",
        "outputId": "d5a5bd34-bc18-4912-caf2-3b2fa1c71617"
      },
      "execution_count": 28,
      "outputs": [
        {
          "output_type": "stream",
          "name": "stdout",
          "text": [
            "Trader data shape: (211224, 16)\n",
            "Sentiment data shape: (2644, 4)\n"
          ]
        }
      ]
    },
    {
      "cell_type": "code",
      "source": [
        "# 2. Basic cleaning & datetime parsing\n",
        "# ---------------------------\n",
        "print(\"Parsing dates and cleaning up columns...\")\n",
        "\n",
        "# Try to find likely timestamp columns in trader_df\n",
        "time_cols = [c for c in trader_df.columns if \"time\" in c.lower() or \"timestamp\" in c.lower()]\n",
        "if not time_cols:\n",
        "    # assume column named 'time' exists per spec\n",
        "    time_cols = [\"time\"]\n",
        "\n",
        "time_col = time_cols[0]\n",
        "print(f\"Using time column: {time_col}\")\n",
        "\n",
        "# Parse trader timestamps\n",
        "trader_df[time_col] = pd.to_datetime(trader_df[time_col], errors=\"coerce\")\n",
        "if trader_df[time_col].isnull().sum() > 0:\n",
        "    print(f\"Warning: {trader_df[time_col].isnull().sum()} NaT values found in {time_col}\")\n",
        "\n",
        "# Parse sentiment dates\n",
        "# Common possible column names: Date, date, Day\n",
        "sent_date_col = None\n",
        "for candidate in [\"Date\", \"date\", \"day\", \"Day\"]:\n",
        "    if candidate in sent_df.columns:\n",
        "        sent_date_col = candidate\n",
        "        break\n",
        "if sent_date_col is None:\n",
        "    raise ValueError(\"Could not find Date column in sentiment file. Rename to 'Date' or similar.\")\n",
        "sent_df[sent_date_col] = pd.to_datetime(sent_df[sent_date_col], errors=\"coerce\")\n",
        "sent_df = sent_df.dropna(subset=[sent_date_col]).copy()\n",
        "\n",
        "# Make sure classification column exists\n",
        "class_col = None\n",
        "for candidate in [\"Classification\", \"classification\", \"Classification \" , \"sentiment\", \"Sentiment\"]:\n",
        "    if candidate in sent_df.columns:\n",
        "        class_col = candidate\n",
        "        break\n",
        "if class_col is None:\n",
        "    raise ValueError(\"Could not find Classification (Fear/Greed) column in sentiment file. Rename accordingly.\")\n",
        "sent_df.rename(columns={sent_date_col: \"sent_date\", class_col: \"sentiment\"}, inplace=True)\n",
        "sent_df[\"sentiment\"] = sent_df[\"sentiment\"].astype(str).str.strip().str.title()  # 'Fear' / 'Greed'\n",
        "\n",
        "# Standardize trader 'time' -> trade_datetime, and extract date\n",
        "trader_df.rename(columns={time_col: \"trade_datetime\"}, inplace=True)\n",
        "trader_df[\"trade_date\"] = pd.to_datetime(trader_df[\"trade_datetime\"].dt.date)"
      ],
      "metadata": {
        "colab": {
          "base_uri": "https://localhost:8080/"
        },
        "id": "R2S8hn3LJeTe",
        "outputId": "a5534f78-dfd2-4a7c-c918-388c125a27e0"
      },
      "execution_count": 29,
      "outputs": [
        {
          "output_type": "stream",
          "name": "stdout",
          "text": [
            "Parsing dates and cleaning up columns...\n",
            "Using time column: Timestamp IST\n",
            "Warning: 131999 NaT values found in Timestamp IST\n"
          ]
        }
      ]
    },
    {
      "cell_type": "code",
      "source": [
        "# 3. Ensure numeric columns\n",
        "# ---------------------------\n",
        "# Common names for PnL and leverage\n",
        "possible_pnl = [c for c in trader_df.columns if c.lower().replace(\"_\",\"\").find(\"pnl\")!=-1 or \"closedpnl\" in c.lower()]\n",
        "pnl_col = possible_pnl[0] if possible_pnl else None\n",
        "if pnl_col is None:\n",
        "    print(\"Warning: Could not automatically find PnL column (closedPnL). Please ensure it is present.\")\n",
        "else:\n",
        "    print(f\"Using PnL column: {pnl_col}\")\n",
        "    trader_df[pnl_col] = pd.to_numeric(trader_df[pnl_col], errors=\"coerce\")\n",
        "\n",
        "possible_lev = [c for c in trader_df.columns if \"leverage\" in c.lower()]\n",
        "lev_col = possible_lev[0] if possible_lev else None\n",
        "if lev_col:\n",
        "    trader_df[lev_col] = pd.to_numeric(trader_df[lev_col], errors=\"coerce\")\n",
        "\n",
        "# Fill missing sizes/prices as numeric where possible\n",
        "for col in [\"size\", \"execution price\", \"execution_price\", \"price\", \"size\"]:\n",
        "    if col in trader_df.columns:\n",
        "        trader_df[col] = pd.to_numeric(trader_df[col], errors=\"coerce\")"
      ],
      "metadata": {
        "colab": {
          "base_uri": "https://localhost:8080/"
        },
        "id": "SbXakJVBJlv7",
        "outputId": "b747f596-2e8b-41bf-bc37-bc748cfcb72c"
      },
      "execution_count": 30,
      "outputs": [
        {
          "output_type": "stream",
          "name": "stdout",
          "text": [
            "Using PnL column: Closed PnL\n"
          ]
        }
      ]
    },
    {
      "cell_type": "code",
      "source": [
        "# 4. Merge sentiment -> trader data\n",
        "# ---------------------------\n",
        "print(\"Merging sentiment with trader data on date...\")\n",
        "merged = pd.merge(\n",
        "    trader_df,\n",
        "    sent_df[[\"sent_date\", \"sentiment\"]],\n",
        "    left_on=\"trade_date\",\n",
        "    right_on=\"sent_date\",\n",
        "    how=\"left\"\n",
        ")\n",
        "\n",
        "# If there are missing sentiment rows, optionally fill using nearest date (1-day tolerance)\n",
        "missing_sent = merged[\"sentiment\"].isnull().sum()\n",
        "print(f\"Trades with missing sentiment after direct merge: {missing_sent}\")\n",
        "\n",
        "if missing_sent > 0:\n",
        "    # forward/backward fill by matching nearest date within 1 day\n",
        "    # create mapping from date->sentiment\n",
        "    sent_map = sent_df.set_index(\"sent_date\")[\"sentiment\"]\n",
        "    def lookup_sent(d):\n",
        "        if pd.isna(d):\n",
        "            return np.nan\n",
        "        # exact\n",
        "        if d in sent_map:\n",
        "            return sent_map[d]\n",
        "        # nearest in +-1 day\n",
        "        for delta in [1, -1, 2, -2]:\n",
        "            nd = d + pd.Timedelta(days=delta)\n",
        "            if nd in sent_map:\n",
        "                return sent_map[nd]\n",
        "        return np.nan\n",
        "    merged[\"sentiment\"] = merged[\"trade_date\"].map(lookup_sent)\n",
        "\n",
        "still_missing = merged[\"sentiment\"].isnull().sum()\n",
        "print(f\"Still missing sentiment: {still_missing}\")\n",
        "\n",
        "# Drop rows with no sentiment if too many are missing or if needed\n",
        "merged = merged.dropna(subset=[\"sentiment\"]).copy()\n",
        "print(f\"After dropping missing-sentiment rows: {merged.shape}\")"
      ],
      "metadata": {
        "colab": {
          "base_uri": "https://localhost:8080/"
        },
        "id": "Bzck3xL3Joz_",
        "outputId": "8857583e-0ca5-4917-bda9-d70edf2c5f6d"
      },
      "execution_count": 31,
      "outputs": [
        {
          "output_type": "stream",
          "name": "stdout",
          "text": [
            "Merging sentiment with trader data on date...\n",
            "Trades with missing sentiment after direct merge: 175360\n",
            "Still missing sentiment: 173340\n",
            "After dropping missing-sentiment rows: (37884, 19)\n"
          ]
        }
      ]
    },
    {
      "cell_type": "code",
      "source": [
        "# 5. Feature engineering\n",
        "print(\"Feature engineering...\")\n",
        "\n",
        "# Standard binary flag: 1 if Greed else 0 for Fear\n",
        "merged[\"sent_flag\"] = merged[\"sentiment\"].map(lambda x: 1 if str(x).strip().lower()==\"greed\" else 0)\n",
        "\n",
        "# Ensure pnl column - use pnl_col if found else try common name\n",
        "if pnl_col is None:\n",
        "    # try common names\n",
        "    for c in [\"closedPnL\", \"closed_pnl\", \"pnl\", \"PnL\"]:\n",
        "        if c in merged.columns:\n",
        "            pnl_col = c\n",
        "            merged[pnl_col] = pd.to_numeric(merged[pnl_col], errors=\"coerce\")\n",
        "            break\n",
        "\n",
        "if pnl_col is None:\n",
        "    raise ValueError(\"No PnL column found. Please provide closedPnL column in trader dataset.\")\n",
        "\n",
        "# create trade-level profit indicator\n",
        "merged[\"is_win\"] = merged[pnl_col] > 0\n",
        "\n",
        "# daily aggregates: group per account per day\n",
        "group_cols = [\"Account\", \"trade_date\"]\n",
        "agg = merged.groupby(group_cols).agg(\n",
        "    trades_count=(\"trade_datetime\", \"count\"),\n",
        "    total_pnl=(pnl_col, \"sum\"),\n",
        "    avg_pnl=(pnl_col, \"mean\"),\n",
        "    win_rate=( \"is_win\", \"mean\"),\n",
        "    avg_leverage=(lev_col, \"mean\") if lev_col else pd.NamedAgg(column=pnl_col, aggfunc=lambda x: np.nan)\n",
        ").reset_index()\n",
        "\n",
        "# attach sentiment by day: if a day has mixed sentiments (rare here since sentiment is daily), use mode\n",
        "day_sent = merged.groupby(\"trade_date\")[\"sentiment\"].agg(lambda x: x.mode().iat[0] if not x.mode().empty else np.nan).reset_index().rename(columns={\"sentiment\":\"day_sentiment\"})\n",
        "agg = agg.merge(day_sent, on=\"trade_date\", how=\"left\")"
      ],
      "metadata": {
        "colab": {
          "base_uri": "https://localhost:8080/"
        },
        "id": "FBMd4BCuJsbd",
        "outputId": "c1f7b835-0f28-4cd0-ab9d-c32da5f5ed50"
      },
      "execution_count": 32,
      "outputs": [
        {
          "output_type": "stream",
          "name": "stdout",
          "text": [
            "Feature engineering...\n"
          ]
        }
      ]
    },
    {
      "cell_type": "code",
      "source": [
        "# 6. Aggregate analysis by sentiment\n",
        "print(\"Aggregating performance by sentiment (trade-level and daily-trader-level)...\")\n",
        "# Trade-level stats\n",
        "trade_level = merged.groupby(\"sentiment\").agg(\n",
        "    avg_pnl=(pnl_col, \"mean\"),\n",
        "    median_pnl=(pnl_col, \"median\"),\n",
        "    total_pnl=(pnl_col, \"sum\"),\n",
        "    trade_count=(pnl_col, \"count\"),\n",
        "    win_rate=(\"is_win\", \"mean\"),\n",
        "    avg_leverage=(lev_col, \"mean\") if lev_col else pd.NamedAgg(column=pnl_col, aggfunc=lambda x: np.nan)\n",
        ").reset_index()\n",
        "\n",
        "# Day-account level stats (agg)\n",
        "day_acc_level = agg.groupby(\"day_sentiment\").agg(\n",
        "    avg_total_pnl=(\"total_pnl\", \"mean\"),\n",
        "    median_total_pnl=(\"total_pnl\", \"median\"),\n",
        "    avg_trades=(\"trades_count\", \"mean\"),\n",
        "    avg_win_rate=(\"win_rate\", \"mean\"),\n",
        "    avg_leverage=(\"avg_leverage\", \"mean\")\n",
        ").reset_index().rename(columns={\"day_sentiment\":\"sentiment\"})\n",
        "\n",
        "print(\"\\nTrade-level summary by sentiment:\")\n",
        "print(trade_level)\n",
        "\n",
        "print(\"\\nDay-account-level summary by sentiment:\")\n",
        "print(day_acc_level)\n"
      ],
      "metadata": {
        "colab": {
          "base_uri": "https://localhost:8080/"
        },
        "id": "NY7U8-CWJyUo",
        "outputId": "3ddf50a7-4d25-49ee-d309-8a79f24f4933"
      },
      "execution_count": 33,
      "outputs": [
        {
          "output_type": "stream",
          "name": "stdout",
          "text": [
            "Aggregating performance by sentiment (trade-level and daily-trader-level)...\n",
            "\n",
            "Trade-level summary by sentiment:\n",
            "       sentiment     avg_pnl  median_pnl     total_pnl  trade_count  win_rate  \\\n",
            "0   Extreme Fear    1.891632     0.00000  4.399937e+03         2326  0.292777   \n",
            "1  Extreme Greed  205.816345     0.96048  1.156894e+06         5621  0.553282   \n",
            "2           Fear  128.287950     0.00000  1.779226e+06        13869  0.381787   \n",
            "3          Greed   68.725078     0.00000  9.148682e+05        13312  0.479868   \n",
            "4        Neutral   27.088803     0.00000  7.465674e+04         2756  0.494920   \n",
            "\n",
            "   avg_leverage  \n",
            "0           NaN  \n",
            "1           NaN  \n",
            "2           NaN  \n",
            "3           NaN  \n",
            "4           NaN  \n",
            "\n",
            "Day-account-level summary by sentiment:\n",
            "       sentiment  avg_total_pnl  median_total_pnl  avg_trades  avg_win_rate  \\\n",
            "0   Extreme Fear     133.331411          0.000000   70.484848      0.173498   \n",
            "1  Extreme Greed   10329.407818        108.938997   50.187500      0.335945   \n",
            "2           Fear   11332.647023        396.062720   88.337580      0.349909   \n",
            "3          Greed    4275.085216        195.164682   62.205607      0.368390   \n",
            "4        Neutral    2017.749783         87.752181   74.486486      0.312524   \n",
            "\n",
            "   avg_leverage  \n",
            "0           NaN  \n",
            "1           NaN  \n",
            "2           NaN  \n",
            "3           NaN  \n",
            "4           NaN  \n"
          ]
        }
      ]
    },
    {
      "cell_type": "code",
      "source": [
        "# 7. Per-trader performance (consistency across sentiments)\n",
        "\n",
        "print(\"Computing per-trader metrics...\")\n",
        "per_trader = merged.groupby(\"Account\").agg(\n",
        "    total_trades=(\"trade_datetime\", \"count\"),\n",
        "    total_pnl=(pnl_col, \"sum\"),\n",
        "    avg_pnl=(pnl_col, \"mean\"),\n",
        "    win_rate=(\"is_win\", \"mean\"),\n",
        "    avg_leverage=(lev_col, \"mean\") if lev_col else pd.NamedAgg(column=pnl_col, aggfunc=lambda x: np.nan)\n",
        ").reset_index()\n",
        "\n",
        "# also compute performance split by sentiment per trader\n",
        "split = merged.pivot_table(index=\"Account\", columns=\"sentiment\", values=pnl_col, aggfunc=[\"count\",\"sum\",\"mean\"])\n",
        "# flatten columns\n",
        "split.columns = ['_'.join([str(a) for a in col]).strip() for col in split.columns.values]\n",
        "per_trader = per_trader.merge(split, left_on=\"Account\", right_index=True, how=\"left\")"
      ],
      "metadata": {
        "colab": {
          "base_uri": "https://localhost:8080/"
        },
        "id": "LoyDgyvWJ-5b",
        "outputId": "d9251489-2bc8-47a1-c7a3-36dc2f660fd2"
      },
      "execution_count": 34,
      "outputs": [
        {
          "output_type": "stream",
          "name": "stdout",
          "text": [
            "Computing per-trader metrics...\n"
          ]
        }
      ]
    },
    {
      "cell_type": "code",
      "source": [
        "# 8. Statistical test: are pnls different between Fear and Greed?\n",
        "\n",
        "print(\"Running basic statistical tests on PnL distribution between Fear and Greed...\")\n",
        "\n",
        "pnl_fear = merged.loc[merged[\"sentiment\"].str.lower()==\"fear\", pnl_col].dropna()\n",
        "pnl_greed = merged.loc[merged[\"sentiment\"].str.lower()==\"greed\", pnl_col].dropna()\n",
        "\n",
        "# Check distributions\n",
        "print(f\"Fear records: {len(pnl_fear)}, Greed records: {len(pnl_greed)}\")\n",
        "\n",
        "# Use Mann-Whitney U (non-parametric) and t-test (with unequal var) as references\n",
        "res_mw = stats.mannwhitneyu(pnl_greed, pnl_fear, alternative=\"two-sided\") if len(pnl_greed)>0 and len(pnl_fear)>0 else None\n",
        "res_t = stats.ttest_ind(pnl_greed, pnl_fear, equal_var=False, nan_policy=\"omit\") if len(pnl_greed)>1 and len(pnl_fear)>1 else None\n",
        "\n",
        "print(\"Mann-Whitney U:\", res_mw)\n",
        "print(\"T-test (unequal var):\", res_t)"
      ],
      "metadata": {
        "colab": {
          "base_uri": "https://localhost:8080/"
        },
        "id": "sQeJkCieKB0X",
        "outputId": "137e2d92-dadb-4137-b602-27d95d6572ee"
      },
      "execution_count": 35,
      "outputs": [
        {
          "output_type": "stream",
          "name": "stdout",
          "text": [
            "Running basic statistical tests on PnL distribution between Fear and Greed...\n",
            "Fear records: 13869, Greed records: 13312\n",
            "Mann-Whitney U: MannwhitneyuResult(statistic=np.float64(101195330.5), pvalue=np.float64(6.158095147864415e-49))\n",
            "T-test (unequal var): TtestResult(statistic=np.float64(-3.5412871748586343), pvalue=np.float64(0.0003988529165719792), df=np.float64(26899.142415828443))\n"
          ]
        }
      ]
    },
    {
      "cell_type": "code",
      "source": [
        "# ---------------------------\n",
        "# 9. Visualizations (matplotlib)\n",
        "# ---------------------------\n",
        "print(\"Generating and showing plots...\")\n",
        "\n",
        "# 9.1 Average PnL by sentiment (trade-level)\n",
        "fig, ax = plt.subplots()\n",
        "ax.bar(trade_level[\"sentiment\"], trade_level[\"avg_pnl\"])\n",
        "ax.set_title(\"Average Trade PnL by Sentiment\")\n",
        "ax.set_ylabel(\"Avg PnL\")\n",
        "ax.set_xlabel(\"Sentiment\")\n",
        "plt.show()\n",
        "plt.close(fig)\n",
        "\n",
        "# 9.2 Trade count by sentiment\n",
        "fig, ax = plt.subplots()\n",
        "ax.bar(trade_level[\"sentiment\"], trade_level[\"trade_count\"])\n",
        "ax.set_title(\"Number of Trades by Sentiment\")\n",
        "ax.set_ylabel(\"Trade Count\")\n",
        "ax.set_xlabel(\"Sentiment\")\n",
        "plt.show()\n",
        "plt.close(fig)\n",
        "\n",
        "# 9.3 Boxplot of PnL distribution by sentiment\n",
        "fig, ax = plt.subplots()\n",
        "data_for_box = [pnl_greed, pnl_fear]\n",
        "ax.boxplot(data_for_box, labels=[\"Greed\", \"Fear\"], showfliers=False)\n",
        "ax.set_title(\"PnL Distribution by Sentiment (no outliers shown)\")\n",
        "ax.set_ylabel(\"PnL\")\n",
        "plt.show()\n",
        "plt.close(fig)\n",
        "\n",
        "# 9.4 Average daily PnL over time (cumulative)\n",
        "daily_pnl = merged.groupby(\"trade_date\")[pnl_col].sum().reset_index()\n",
        "daily_pnl = daily_pnl.sort_values(\"trade_date\")\n",
        "daily_pnl[\"cum_pnl\"] = daily_pnl[pnl_col].cumsum()\n",
        "\n",
        "fig, ax = plt.subplots()\n",
        "ax.plot(daily_pnl[\"trade_date\"], daily_pnl[\"cum_pnl\"])\n",
        "ax.set_title(\"Cumulative PnL Over Time (All Trades)\")\n",
        "ax.set_xlabel(\"Date\")\n",
        "ax.set_ylabel(\"Cumulative PnL\")\n",
        "plt.show()\n",
        "plt.close(fig)\n",
        "\n",
        "# 9.5 Leverage distribution by sentiment (if available)\n",
        "if lev_col:\n",
        "    fig, ax = plt.subplots()\n",
        "    greed_lev = merged.loc[merged[\"sentiment\"].str.lower()==\"greed\", lev_col].dropna()\n",
        "    fear_lev = merged.loc[merged[\"sentiment\"].str.lower()==\"fear\", lev_col].dropna()\n",
        "    ax.boxplot([greed_lev, fear_lev], labels=[\"Greed\", \"Fear\"], showfliers=False)\n",
        "    ax.set_title(\"Leverage Distribution by Sentiment\")\n",
        "    ax.set_ylabel(\"Leverage\")\n",
        "    plt.show()\n",
        "    plt.close(fig)\n",
        "\n",
        "\n"
      ],
      "metadata": {
        "colab": {
          "base_uri": "https://localhost:8080/",
          "height": 1000
        },
        "id": "Qs-HmRNNKQgO",
        "outputId": "cf247ecc-4abe-4005-c9da-6f07aae15718"
      },
      "execution_count": 36,
      "outputs": [
        {
          "output_type": "stream",
          "name": "stdout",
          "text": [
            "Generating and showing plots...\n"
          ]
        },
        {
          "output_type": "display_data",
          "data": {
            "text/plain": [
              "<Figure size 800x500 with 1 Axes>"
            ],
            "image/png": "[encoded data removed]"
          },
          "metadata": {}
        },
        {
          "output_type": "display_data",
          "data": {
            "text/plain": [
              "<Figure size 800x500 with 1 Axes>"
            ],
            "image/png": "[encoded data removed]"
          },
          "metadata": {}
        },
        {
          "output_type": "display_data",
          "data": {
            "text/plain": [
              "<Figure size 800x500 with 1 Axes>"
            ],
            "image/png": "[encoded data removed]"
          },
          "metadata": {}
        },
        {
          "output_type": "display_data",
          "data": {
            "text/plain": [
              "<Figure size 800x500 with 1 Axes>"
            ],
            "image/png": "[encoded data removed]"
          },
          "metadata": {}
        }
      ]
    },
    {
      "cell_type": "code",
      "source": [
        "# ---------------------------\n",
        "# 10. Show and save CSV summaries\n",
        "# ---------------------------\n",
        "print(\"Saving CSV summaries and showing data samples...\")\n",
        "\n",
        "merged.to_csv(\"merged_cleaned.csv\", index=False)\n",
        "print(\"\\nMerged cleaned dataframe sample:\")\n",
        "print(merged.head())\n",
        "\n",
        "trade_level.to_csv(\"trade_level_summary_by_sentiment.csv\", index=False)\n",
        "print(\"\\nTrade level summary:\")\n",
        "print(trade_level)\n",
        "\n",
        "day_acc_level.to_csv(\"day_account_summary_by_sentiment.csv\", index=False)\n",
        "print(\"\\nDay account summary by sentiment:\")\n",
        "print(day_acc_level)\n",
        "\n",
        "per_trader.to_csv(\"per_trader_summary.csv\", index=False)\n",
        "print(\"\\nPer trader summary sample:\")\n",
        "print(per_trader.head())"
      ],
      "metadata": {
        "id": "6bjZx8vITyBZ",
        "outputId": "135ca4ef-e3de-466f-ed87-d4f10a5b077e",
        "colab": {
          "base_uri": "https://localhost:8080/"
        }
      },
      "execution_count": 37,
      "outputs": [
        {
          "output_type": "stream",
          "name": "stdout",
          "text": [
            "Saving CSV summaries and showing data samples...\n",
            "\n",
            "Merged cleaned dataframe sample:\n",
            "                                      Account  Coin  Execution Price  \\\n",
            "0  0xae5eacaf9c6b9111fd53034a602c192a04e082ed  @107           7.9769   \n",
            "1  0xae5eacaf9c6b9111fd53034a602c192a04e082ed  @107           7.9800   \n",
            "2  0xae5eacaf9c6b9111fd53034a602c192a04e082ed  @107           7.9855   \n",
            "3  0xae5eacaf9c6b9111fd53034a602c192a04e082ed  @107           7.9874   \n",
            "4  0xae5eacaf9c6b9111fd53034a602c192a04e082ed  @107           7.9894   \n",
            "\n",
            "   Size Tokens  Size USD Side      trade_datetime  Start Position Direction  \\\n",
            "0       986.87   7872.16  BUY 2024-02-12 22:50:00        0.000000       Buy   \n",
            "1        16.00    127.68  BUY 2024-02-12 22:50:00      986.524596       Buy   \n",
            "2       144.09   1150.63  BUY 2024-02-12 22:50:00     1002.518996       Buy   \n",
            "3       142.98   1142.04  BUY 2024-02-12 22:50:00     1146.558564       Buy   \n",
            "4         8.73     69.75  BUY 2024-02-12 22:50:00     1289.488521       Buy   \n",
            "\n",
            "   Closed PnL  ...     Order ID  Crossed       Fee      Trade ID  \\\n",
            "0         0.0  ...  52017706630     True  0.345404  8.950000e+14   \n",
            "1         0.0  ...  52017706630     True  0.005600  4.430000e+14   \n",
            "2         0.0  ...  52017706630     True  0.050431  6.600000e+14   \n",
            "3         0.0  ...  52017706630     True  0.050043  1.080000e+15   \n",
            "4         0.0  ...  52017706630     True  0.003055  1.050000e+15   \n",
            "\n",
            "      Timestamp  trade_date  sent_date sentiment sent_flag  is_win  \n",
            "0  1.730000e+12  2024-02-12 2024-02-12     Greed         1   False  \n",
            "1  1.730000e+12  2024-02-12 2024-02-12     Greed         1   False  \n",
            "2  1.730000e+12  2024-02-12 2024-02-12     Greed         1   False  \n",
            "3  1.730000e+12  2024-02-12 2024-02-12     Greed         1   False  \n",
            "4  1.730000e+12  2024-02-12 2024-02-12     Greed         1   False  \n",
            "\n",
            "[5 rows x 21 columns]\n",
            "\n",
            "Trade level summary:\n",
            "       sentiment     avg_pnl  median_pnl     total_pnl  trade_count  win_rate  \\\n",
            "0   Extreme Fear    1.891632     0.00000  4.399937e+03         2326  0.292777   \n",
            "1  Extreme Greed  205.816345     0.96048  1.156894e+06         5621  0.553282   \n",
            "2           Fear  128.287950     0.00000  1.779226e+06        13869  0.381787   \n",
            "3          Greed   68.725078     0.00000  9.148682e+05        13312  0.479868   \n",
            "4        Neutral   27.088803     0.00000  7.465674e+04         2756  0.494920   \n",
            "\n",
            "   avg_leverage  \n",
            "0           NaN  \n",
            "1           NaN  \n",
            "2           NaN  \n",
            "3           NaN  \n",
            "4           NaN  \n",
            "\n",
            "Day account summary by sentiment:\n",
            "       sentiment  avg_total_pnl  median_total_pnl  avg_trades  avg_win_rate  \\\n",
            "0   Extreme Fear     133.331411          0.000000   70.484848      0.173498   \n",
            "1  Extreme Greed   10329.407818        108.938997   50.187500      0.335945   \n",
            "2           Fear   11332.647023        396.062720   88.337580      0.349909   \n",
            "3          Greed    4275.085216        195.164682   62.205607      0.368390   \n",
            "4        Neutral    2017.749783         87.752181   74.486486      0.312524   \n",
            "\n",
            "   avg_leverage  \n",
            "0           NaN  \n",
            "1           NaN  \n",
            "2           NaN  \n",
            "3           NaN  \n",
            "4           NaN  \n",
            "\n",
            "Per trader summary sample:\n",
            "                                      Account  total_trades      total_pnl  \\\n",
            "0  0x083384f897ee0f19899168e3b1bec365f52a9012          2486  965588.745995   \n",
            "1  0x23e7a7f8d14b550961925fbfdaa92f5d195ba5bd          1192   14102.674084   \n",
            "2  0x271b280974205ca63b716753467d5a371de622ab             4     208.817460   \n",
            "3  0x28736f43f1e871e6aa8b1148d38d4994275d72c4          2819   59149.287641   \n",
            "4  0x2c229d22b100a7beb69122eed721cee9b24011dd           467   54153.957343   \n",
            "\n",
            "      avg_pnl  win_rate  avg_leverage  count_Extreme Fear  \\\n",
            "0  388.410598  0.403057           NaN                 NaN   \n",
            "1   11.831102  0.400168           NaN                 1.0   \n",
            "2   52.204365  0.750000           NaN                 NaN   \n",
            "3   20.982365  0.483505           NaN               154.0   \n",
            "4  115.961365  0.543897           NaN                26.0   \n",
            "\n",
            "   count_Extreme Greed  count_Fear  count_Greed  ...  sum_Extreme Fear  \\\n",
            "0                177.0      2011.0        298.0  ...               NaN   \n",
            "1                  NaN       247.0        880.0  ...          0.000000   \n",
            "2                  NaN         NaN          4.0  ...               NaN   \n",
            "3                430.0       879.0       1117.0  ...        400.093828   \n",
            "4                191.0        15.0        223.0  ...        160.127816   \n",
            "\n",
            "   sum_Extreme Greed      sum_Fear     sum_Greed  sum_Neutral  \\\n",
            "0           0.000000  1.010607e+06 -45017.872815          NaN   \n",
            "1                NaN  2.826578e+03   8758.308723  2517.787385   \n",
            "2                NaN           NaN    208.817460          NaN   \n",
            "3       17645.398797  1.678161e+04  23253.876167  1068.309642   \n",
            "4       23897.024855 -7.107869e+02  30676.707927   130.883691   \n",
            "\n",
            "   mean_Extreme Fear  mean_Extreme Greed   mean_Fear  mean_Greed  mean_Neutral  \n",
            "0                NaN            0.000000  502.539343 -151.066687           NaN  \n",
            "1           0.000000                 NaN   11.443636    9.952624     39.340428  \n",
            "2                NaN                 NaN         NaN   52.204365           NaN  \n",
            "3           2.598012           41.035811   19.091706   20.818152      4.469915  \n",
            "4           6.158762          125.115313  -47.385796  137.563713     10.906974  \n",
            "\n",
            "[5 rows x 21 columns]\n"
          ]
        }
      ]
    },
    {
      "cell_type": "code",
      "source": [
        "# 11. Quick Insights summary (print)\n",
        "\n",
        "print(\"\\n--- Quick insights ---\")\n",
        "print(\"1) Check trade-level average PnL by sentiment (see trade_level_summary_by_sentiment.csv).\")\n",
        "print(\"2) Check per-trader summary for traders who perform consistently well/worse across sentiments (per_trader_summary.csv).\")\n",
        "print(\"3) Mann-Whitney U and t-test results (printed above) indicate whether PnL distributions differ between Greed and Fear.\")\n",
        "print(\"4) Visual plots saved in\", PLOTS_DIR)\n",
        "print(\"\\nIf you want, next steps I can add:\")\n",
        "print(\"- Machine learning model to predict probability of trade profit given sentiment + features\")\n",
        "print(\"- Trader clustering (KMeans) to find groups by behavior\")\n",
        "print(\"- Time series analysis for sentiment lead/lag effects on PnL\")"
      ],
      "metadata": {
        "colab": {
          "base_uri": "https://localhost:8080/"
        },
        "id": "M78RIvzmKjCG",
        "outputId": "a083b507-1c96-4553-8edc-45342378c850"
      },
      "execution_count": 38,
      "outputs": [
        {
          "output_type": "stream",
          "name": "stdout",
          "text": [
            "\n",
            "--- Quick insights ---\n",
            "1) Check trade-level average PnL by sentiment (see trade_level_summary_by_sentiment.csv).\n",
            "2) Check per-trader summary for traders who perform consistently well/worse across sentiments (per_trader_summary.csv).\n",
            "3) Mann-Whitney U and t-test results (printed above) indicate whether PnL distributions differ between Greed and Fear.\n",
            "4) Visual plots saved in analysis_outputs/plots\n",
            "\n",
            "If you want, next steps I can add:\n",
            "- Machine learning model to predict probability of trade profit given sentiment + features\n",
            "- Trader clustering (KMeans) to find groups by behavior\n",
            "- Time series analysis for sentiment lead/lag effects on PnL\n"
          ]
        }
      ]
    },
    {
      "cell_type": "code",
      "source": [],
      "metadata": {
        "id": "owu87Xm7Kl8r"
      },
      "execution_count": 38,
      "outputs": []
    }
  ]
}